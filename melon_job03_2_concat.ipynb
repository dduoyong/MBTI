{
  "nbformat": 4,
  "nbformat_minor": 0,
  "metadata": {
    "colab": {
      "name": "melon_job03-2_concat.ipynb",
      "provenance": [],
      "collapsed_sections": [],
      "authorship_tag": "ABX9TyNTY3tvGzFJQWNCeDnte3yD",
      "include_colab_link": true
    },
    "kernelspec": {
      "name": "python3",
      "display_name": "Python 3"
    },
    "language_info": {
      "name": "python"
    }
  },
  "cells": [
    {
      "cell_type": "markdown",
      "metadata": {
        "id": "view-in-github",
        "colab_type": "text"
      },
      "source": [
        "<a href=\"https://colab.research.google.com/github/hyunk525/Emotion_Recommendation/blob/main/melon_job03_2_concat.ipynb\" target=\"_parent\"><img src=\"https://colab.research.google.com/assets/colab-badge.svg\" alt=\"Open In Colab\"/></a>"
      ]
    },
    {
      "cell_type": "code",
      "source": [
        "from google.colab import drive\n",
        "drive.mount('/content/drive')"
      ],
      "metadata": {
        "id": "VNCQOgDc4EBm",
        "colab": {
          "base_uri": "https://localhost:8080/"
        },
        "outputId": "9c7c646b-0ac6-4482-c187-493127eb1934"
      },
      "execution_count": 1,
      "outputs": [
        {
          "output_type": "stream",
          "name": "stdout",
          "text": [
            "Mounted at /content/drive\n"
          ]
        }
      ]
    },
    {
      "cell_type": "code",
      "execution_count": 6,
      "metadata": {
        "id": "WYsljd_l4CWE",
        "colab": {
          "base_uri": "https://localhost:8080/"
        },
        "outputId": "b5310857-6e5e-481c-8f40-5decb5053da5"
      },
      "outputs": [
        {
          "output_type": "stream",
          "name": "stdout",
          "text": [
            "<class 'pandas.core.frame.DataFrame'>\n",
            "Int64Index: 1021 entries, 0 to 1023\n",
            "Data columns (total 3 columns):\n",
            " #   Column  Non-Null Count  Dtype \n",
            "---  ------  --------------  ----- \n",
            " 0   artist  1021 non-null   object\n",
            " 1   title   1021 non-null   object\n",
            " 2   lyric   1021 non-null   object\n",
            "dtypes: object(3)\n",
            "memory usage: 31.9+ KB\n"
          ]
        }
      ],
      "source": [
        "import pandas as pd\n",
        "import glob\n",
        "\n",
        "df = pd.DataFrame()\n",
        "data_paths = glob.glob('/content/drive/MyDrive/Play with Me(이현경, 김다영)/melon lyric data/RandM/*')\n",
        "\n",
        "for path in data_paths:\n",
        "    df_temp = pd.read_csv(path)\n",
        "    df_temp.dropna(inplace = True)\n",
        "    df_temp.drop_duplicates(inplace=True)\n",
        "    df =  pd.concat([df, df_temp], ignore_index=True)\n",
        "\n",
        "\n",
        "df.drop_duplicates(inplace=True)\n",
        "df.info()\n",
        "#Indie\n",
        "#  0   artist  1165 non-null   object\n",
        "#  1   title   1165 non-null   object\n",
        "#  2   lyric   1165 non-null   object\n",
        "\n",
        "#Pop\n",
        "#  0   artist  1266 non-null   object\n",
        "#  1   title   1266 non-null   object\n",
        "#  2   lyric   1266 non-null   object\n",
        "\n",
        "#RandH(Rap&Hiphop)\n",
        "#  0   artist  1270 non-null   object\n",
        "#  1   title   1270 non-null   object\n",
        "#  2   lyric   1270 non-null   object\n",
        "\n",
        "#RandM(Rock&Metal)\n",
        "#  0   artist  1021 non-null   object\n",
        "#  1   title   1021 non-null   object\n",
        "#  2   lyric   1021 non-null   object\n",
        "\n",
        "df.to_csv('./RandM_lyric_all.csv', index=False)\n",
        "# df.to_csv('/content/Play with Me(이현경,김다영)/melon lyric data/Indie_lyric_all.csv', index=False)"
      ]
    }
  ]
}